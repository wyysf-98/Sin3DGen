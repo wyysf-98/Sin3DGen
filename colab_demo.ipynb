{
  "cells": [
    {
      "cell_type": "code",
      "execution_count": null,
      "metadata": {
        "colab": {
          "base_uri": "https://localhost:8080/"
        },
        "id": "YadOCCCyXT0y",
        "outputId": "687d5fca-a092-4f6b-d345-b09a306802a8"
      },
      "outputs": [],
      "source": [
        "!nvidia-smi"
      ]
    },
    {
      "attachments": {},
      "cell_type": "markdown",
      "metadata": {
        "id": "si3q27Qxbli8"
      },
      "source": [
        "Clone and build plenoxels (it takes about 5~10 minutes)"
      ]
    },
    {
      "cell_type": "code",
      "execution_count": null,
      "metadata": {
        "colab": {
          "base_uri": "https://localhost:8080/"
        },
        "id": "x5mC3GaFbepy",
        "outputId": "b2898560-8b09-47ea-c9b6-a76e83ec6c06"
      },
      "outputs": [],
      "source": [
        "!git clone https://github.com/sxyu/svox2.git ./svox2\n",
        "!cd ./svox2 && python setup.py install"
      ]
    },
    {
      "attachments": {},
      "cell_type": "markdown",
      "metadata": {
        "id": "S7vZFQkeq_Vk"
      },
      "source": [
        "Clone Sin3DGen repo"
      ]
    },
    {
      "cell_type": "code",
      "execution_count": null,
      "metadata": {
        "colab": {
          "base_uri": "https://localhost:8080/"
        },
        "id": "ubuVj4z0MhHh",
        "outputId": "4522f05d-3b83-4cac-f52c-826c88082110"
      },
      "outputs": [],
      "source": [
        "!git clone https://github.com/wyysf-98/Sin3DGen.git"
      ]
    },
    {
      "attachments": {},
      "cell_type": "markdown",
      "metadata": {
        "id": "yT1Ecc13kIY_"
      },
      "source": [
        "Prepare data and install dependencies"
      ]
    },
    {
      "cell_type": "code",
      "execution_count": null,
      "metadata": {
        "colab": {
          "base_uri": "https://localhost:8080/"
        },
        "id": "Fx5u8jJ4Siz5",
        "outputId": "ee08931f-7bcb-42c6-f80d-7829059a115f"
      },
      "outputs": [],
      "source": [
        "%cd Sin3DGen\n",
        "!mkdir data\n",
        "!gdown 1ArKLIZU98-sORfeM_8si1sSDEaMKXqI1\n",
        "!cp -r /content/Sin3DGen/DevilsTower.zip ./data/DevilsTower.zip\n",
        "!unzip DevilsTower.zip -d ./data"
      ]
    },
    {
      "cell_type": "code",
      "execution_count": null,
      "metadata": {
        "colab": {
          "base_uri": "https://localhost:8080/",
          "height": 1000
        },
        "id": "pTqjy0jVqUwT",
        "outputId": "8fad8e57-7f5f-49e5-d1a3-e343b3bacfdd"
      },
      "outputs": [],
      "source": [
        "!pip install open3d imageio-ffmpeg==0.4.5 pyyaml pymcubes plyfile==0.7.4 unfoldNd==0.1.0 pysdf==0.1.8 trimesh==3.10.0 tensorboardX==2.5 ninja==1.11.1 scikit-learn==1.0.2"
      ]
    },
    {
      "attachments": {},
      "cell_type": "markdown",
      "metadata": {
        "id": "mncIuaKZUqQV"
      },
      "source": [
        "Run quick inference demo, you can also download mesh from `outputs/quick_inference_demo/`"
      ]
    },
    {
      "cell_type": "code",
      "execution_count": null,
      "metadata": {
        "colab": {
          "base_uri": "https://localhost:8080/",
          "height": 1000
        },
        "id": "-y6NWtlOXbR8",
        "outputId": "ce09c8e4-a75e-4275-c875-558efa9da996"
      },
      "outputs": [],
      "source": [
        "!python quick_inference_demo.py -m 'run' \\\n",
        "     --config './configs/default.yaml' \\\n",
        "     --exemplar './data/DevilsTower/ckpts' \\\n",
        "     --resume './data/DevilsTower/mapping_fields/s566239.npz' \\\n",
        "     --output './outputs/quick_inference_demo/DevilsTower_s566239' \\\n",
        "     --scene_reso '[512, 512, 512]'\n",
        "\n",
        "from IPython.display import display, Video\n",
        "display(Video('./outputs/quick_inference_demo/DevilsTower_s566239/scene/rgb_fps8.mp4', embed=True))"
      ]
    },
    {
      "attachments": {},
      "cell_type": "markdown",
      "metadata": {
        "id": "y20CK2vHu8ga"
      },
      "source": [
        "Run random generation using seed=11111, which takes about 3 minutes on a T4 GPU"
      ]
    },
    {
      "cell_type": "code",
      "execution_count": null,
      "metadata": {
        "colab": {
          "base_uri": "https://localhost:8080/"
        },
        "id": "epdbUXREwb3H",
        "outputId": "a5443e96-6943-4c30-c0d3-eb495afa1dd6"
      },
      "outputs": [],
      "source": [
        "# seed random seed for generation\n",
        "%env seed=0"
      ]
    },
    {
      "cell_type": "code",
      "execution_count": null,
      "metadata": {
        "colab": {
          "base_uri": "https://localhost:8080/",
          "height": 1000
        },
        "id": "RroJfg7SxZww",
        "outputId": "8194c649-ca41-4097-eb32-9ddb146755ef"
      },
      "outputs": [],
      "source": [
        "# This setting uses all available GPU Ram in colab\n",
        "!python generate.py -m 'run' \\\n",
        "      --config './configs/default.yaml' \\\n",
        "      --exemplar './data/DevilsTower/ckpts' \\\n",
        "      --pyr_reso '[16, 21, 28, 38, 51, 68, 91]' \\\n",
        "      --vis_mapping_field 0 \\\n",
        "      --start_vis_level 6 \\\n",
        "      --seed $seed\n",
        "\n",
        "# vis video results, you can download the depth and loss.png in the folder\n",
        "import os\n",
        "from IPython.display import display, Video\n",
        "seed=os.environ.get('seed')\n",
        "display(Video(f'./outputs/default/DevilsTower/rescale_bounds1.0_1.0_1.0+16_21_28_38_51_68_91/s{seed}+sANNF5+gaussian0.5+geo_tsdf3+app_pca3+w_app0.5+alpha0.01+ps5+citers10+jonce_True/ANNF_reso91_91_53+itrs1/scene/rgb_fps8.mp4', embed=True))"
      ]
    }
  ],
  "metadata": {
    "accelerator": "GPU",
    "colab": {
      "provenance": []
    },
    "gpuClass": "standard",
    "kernelspec": {
      "display_name": "Python 3",
      "name": "python3"
    },
    "language_info": {
      "name": "python"
    }
  },
  "nbformat": 4,
  "nbformat_minor": 0
}
